{
 "cells": [
  {
   "cell_type": "code",
   "execution_count": null,
   "metadata": {},
   "outputs": [],
   "source": [
    "# Amadeo Salvador 2-14-23\n",
    "###   Simple Python code to scale on numeral variables of dataset lipidomics 200 for LASSO analysis   ###\n",
    "# Lipidomics200 is has HIPPA data, so it not available here."
   ]
  },
  {
   "cell_type": "code",
   "execution_count": null,
   "metadata": {},
   "outputs": [],
   "source": [
    "# Concatenates the data1 and data2:\n",
    "data_combined= pd.concat([data1, data2], axis=1)\n",
    "##Scaling only the numerical data (removing non numeric or binary to add again later)\n",
    "data_combined_cols = data_combined.columns\n",
    "binary_columns = [col for col in data_combined_cols if data_combined[col].nunique() <= 2]\n",
    "\n",
    "# Convert binary columns to numeric data type\n",
    "binary_data = data_combined[binary_columns].astype('float')\n",
    "non_binary_columns = data_combined.select_dtypes(exclude=[np.number, 'bool']).columns\n",
    "categ_data = data_combined[non_binary_columns].astype('object')\n",
    "\n",
    "# Select only numeric columns for scaling\n",
    "numeric_columns = [col for col in data_combined.columns if col not in binary_columns and col not in non_binary_columns]\n",
    "numeric_data = data_combined[numeric_columns]\n",
    "\n",
    "# Scale the numeric columns\n",
    "scaler = StandardScaler()\n",
    "scaled_numeric_data = scaler.fit_transform(numeric_data)\n",
    "scaled_numeric_data = pd.DataFrame(scaled_numeric_data, columns=numeric_data.columns, index=numeric_data.index)\n",
    "\n",
    "# Combine the binary and scaled numeric data\n",
    "scaled_data_combined = pd.concat([scaled_numeric_data, binary_data,categ_data], axis=1)\n",
    "scaled_data_combined\n"
   ]
  },
  {
   "cell_type": "code",
   "execution_count": null,
   "metadata": {},
   "outputs": [],
   "source": []
  }
 ],
 "metadata": {
  "kernelspec": {
   "display_name": "Python 3",
   "language": "python",
   "name": "python3"
  },
  "language_info": {
   "codemirror_mode": {
    "name": "ipython",
    "version": 3
   },
   "file_extension": ".py",
   "mimetype": "text/x-python",
   "name": "python",
   "nbconvert_exporter": "python",
   "pygments_lexer": "ipython3",
   "version": "3.7.3"
  }
 },
 "nbformat": 4,
 "nbformat_minor": 2
}
